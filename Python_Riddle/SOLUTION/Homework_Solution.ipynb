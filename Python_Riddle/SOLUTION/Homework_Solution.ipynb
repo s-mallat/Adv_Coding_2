{
 "cells": [
  {
   "cell_type": "code",
   "execution_count": 1,
   "id": "c7a26d29",
   "metadata": {},
   "outputs": [
    {
     "name": "stdout",
     "output_type": "stream",
     "text": [
      "Initial list :  [68, 101, 99, 111, 100, 101, 32, 45, 62, 32, 85, 84, 70, 95, 49, 54]\n",
      "Final string :  Decode -> UTF_16\n"
     ]
    }
   ],
   "source": [
    "# Input list\n",
    "lst = [68, 101, 99, 111, 100, 101, 32, 45, 62, 32, 85, 84, 70, 95, 49, 54]\n",
    " \n",
    "# Printing input list\n",
    "print (\"Initial list : \", lst)\n",
    " \n",
    "# Using list comprehension and join\n",
    "res = ''.join(chr(i) for i in lst)\n",
    " \n",
    "print (\"Final string : \", str(res))"
   ]
  },
  {
   "cell_type": "code",
   "execution_count": 2,
   "id": "cba39d4a",
   "metadata": {},
   "outputs": [
    {
     "name": "stdout",
     "output_type": "stream",
     "text": [
      "Congratulations! You managed to decode the message! The answer you're looking for is: play.html. Keep reading if you're interested in how to solve. The First riddle: str(''.join(chr(i) for i in lstt)) --> you get UTF_16 ... The Second riddle: text.decode('utf_16') --> you get this message! \n"
     ]
    }
   ],
   "source": [
    "byte_string = b\"\\xff\\xfeC\\x00o\\x00n\\x00g\\x00r\\x00a\\x00t\\x00u\\x00l\\x00a\\x00t\\x00i\\x00o\\x00n\\x00s\\x00!\\x00 \\x00Y\\x00o\\x00u\\x00 \\x00m\\x00a\\x00n\\x00a\\x00g\\x00e\\x00d\\x00 \\x00t\\x00o\\x00 \\x00d\\x00e\\x00c\\x00o\\x00d\\x00e\\x00 \\x00t\\x00h\\x00e\\x00 \\x00m\\x00e\\x00s\\x00s\\x00a\\x00g\\x00e\\x00!\\x00 \\x00T\\x00h\\x00e\\x00 \\x00a\\x00n\\x00s\\x00w\\x00e\\x00r\\x00 \\x00y\\x00o\\x00u\\x00'\\x00r\\x00e\\x00 \\x00l\\x00o\\x00o\\x00k\\x00i\\x00n\\x00g\\x00 \\x00f\\x00o\\x00r\\x00 \\x00i\\x00s\\x00:\\x00 \\x00p\\x00l\\x00a\\x00y\\x00.\\x00h\\x00t\\x00m\\x00l\\x00.\\x00 \\x00K\\x00e\\x00e\\x00p\\x00 \\x00r\\x00e\\x00a\\x00d\\x00i\\x00n\\x00g\\x00 \\x00i\\x00f\\x00 \\x00y\\x00o\\x00u\\x00'\\x00r\\x00e\\x00 \\x00i\\x00n\\x00t\\x00e\\x00r\\x00e\\x00s\\x00t\\x00e\\x00d\\x00 \\x00i\\x00n\\x00 \\x00h\\x00o\\x00w\\x00 \\x00t\\x00o\\x00 \\x00s\\x00o\\x00l\\x00v\\x00e\\x00.\\x00 \\x00T\\x00h\\x00e\\x00 \\x00F\\x00i\\x00r\\x00s\\x00t\\x00 \\x00r\\x00i\\x00d\\x00d\\x00l\\x00e\\x00:\\x00 \\x00s\\x00t\\x00r\\x00(\\x00'\\x00'\\x00.\\x00j\\x00o\\x00i\\x00n\\x00(\\x00c\\x00h\\x00r\\x00(\\x00i\\x00)\\x00 \\x00f\\x00o\\x00r\\x00 \\x00i\\x00 \\x00i\\x00n\\x00 \\x00l\\x00s\\x00t\\x00t\\x00)\\x00)\\x00 \\x00-\\x00-\\x00>\\x00 \\x00y\\x00o\\x00u\\x00 \\x00g\\x00e\\x00t\\x00 \\x00U\\x00T\\x00F\\x00_\\x001\\x006\\x00 \\x00.\\x00.\\x00.\\x00 \\x00T\\x00h\\x00e\\x00 \\x00S\\x00e\\x00c\\x00o\\x00n\\x00d\\x00 \\x00r\\x00i\\x00d\\x00d\\x00l\\x00e\\x00:\\x00 \\x00t\\x00e\\x00x\\x00t\\x00.\\x00d\\x00e\\x00c\\x00o\\x00d\\x00e\\x00(\\x00'\\x00u\\x00t\\x00f\\x00_\\x001\\x006\\x00'\\x00)\\x00 \\x00-\\x00-\\x00>\\x00 \\x00y\\x00o\\x00u\\x00 \\x00g\\x00e\\x00t\\x00 \\x00t\\x00h\\x00i\\x00s\\x00 \\x00m\\x00e\\x00s\\x00s\\x00a\\x00g\\x00e\\x00!\\x00 \\x00\"\n",
    "\n",
    "decoding = byte_string.decode(\"utf_16\")\n",
    "print(decoding)"
   ]
  },
  {
   "cell_type": "code",
   "execution_count": 3,
   "id": "20383964",
   "metadata": {},
   "outputs": [
    {
     "name": "stdout",
     "output_type": "stream",
     "text": [
      "That's all! Thank you for trying out my riddle! :)\n"
     ]
    }
   ],
   "source": [
    "print (\"That's all! Thank you for trying out my riddle! :)\")"
   ]
  },
  {
   "cell_type": "code",
   "execution_count": null,
   "id": "6569aa85",
   "metadata": {},
   "outputs": [],
   "source": []
  }
 ],
 "metadata": {
  "kernelspec": {
   "display_name": "Python 3 (ipykernel)",
   "language": "python",
   "name": "python3"
  },
  "language_info": {
   "codemirror_mode": {
    "name": "ipython",
    "version": 3
   },
   "file_extension": ".py",
   "mimetype": "text/x-python",
   "name": "python",
   "nbconvert_exporter": "python",
   "pygments_lexer": "ipython3",
   "version": "3.9.7"
  }
 },
 "nbformat": 4,
 "nbformat_minor": 5
}
