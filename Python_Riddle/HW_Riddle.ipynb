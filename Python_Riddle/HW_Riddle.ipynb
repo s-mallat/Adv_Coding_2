{
 "cells": [
  {
   "cell_type": "code",
   "execution_count": 2,
   "id": "d9773d11",
   "metadata": {},
   "outputs": [
    {
     "name": "stdout",
     "output_type": "stream",
     "text": [
      "Hello World!\n"
     ]
    }
   ],
   "source": [
    "print (\"Hello World!\")"
   ]
  },
  {
   "cell_type": "code",
   "execution_count": 3,
   "id": "5e56feae",
   "metadata": {},
   "outputs": [
    {
     "name": "stdout",
     "output_type": "stream",
     "text": [
      "Testing before run!\n"
     ]
    }
   ],
   "source": [
    "print (\"Testing before run!\")"
   ]
  },
  {
   "cell_type": "code",
   "execution_count": 17,
   "id": "c2770118",
   "metadata": {},
   "outputs": [
    {
     "name": "stdout",
     "output_type": "stream",
     "text": [
      "abc\n"
     ]
    }
   ],
   "source": [
    "byte_string = b\"\\x61\\x62\\x63\"\n",
    "\n",
    "decoded_string = byte_string.decode(\"utf8\")\n",
    "\n",
    "print(decoded_string)"
   ]
  },
  {
   "cell_type": "code",
   "execution_count": 21,
   "id": "d6687a8c",
   "metadata": {},
   "outputs": [
    {
     "name": "stdout",
     "output_type": "stream",
     "text": [
      "b'a/b/c'\n"
     ]
    }
   ],
   "source": [
    "byte_string = \"a/b/c\"\n",
    "\n",
    "encode_string = byte_string.encode()\n",
    "\n",
    "print(encode_string)"
   ]
  },
  {
   "cell_type": "code",
   "execution_count": 23,
   "id": "6ee44cfa",
   "metadata": {},
   "outputs": [
    {
     "name": "stdout",
     "output_type": "stream",
     "text": [
      "b\"\\xff\\xfeN\\x00o\\x00t\\x00 \\x00s\\x00u\\x00r\\x00e\\x00 \\x00w\\x00h\\x00a\\x00t\\x00'\\x00s\\x00 \\x00h\\x00a\\x00p\\x00p\\x00e\\x00n\\x00i\\x00n\\x00g\\x00\"\n"
     ]
    }
   ],
   "source": [
    "text =  \"Not sure what's happening\"\n",
    "text_utf = text.encode(\"utf_16\")\n",
    "\n",
    "print(text_utf)"
   ]
  },
  {
   "cell_type": "code",
   "execution_count": 24,
   "id": "a2c1f16f",
   "metadata": {},
   "outputs": [
    {
     "name": "stdout",
     "output_type": "stream",
     "text": [
      "b\"\\xff\\xfeT\\x00h\\x00e\\x00 \\x00k\\x00e\\x00y\\x00 \\x00t\\x00o\\x00 \\x00s\\x00o\\x00l\\x00v\\x00i\\x00n\\x00g\\x00 \\x00t\\x00h\\x00i\\x00s\\x00 \\x00r\\x00i\\x00d\\x00d\\x00l\\x00e\\x00 \\x00i\\x00s\\x00 \\x00t\\x00o\\x00 \\x00u\\x00s\\x00e\\x00 \\x00t\\x00h\\x00e\\x00 \\x00s\\x00t\\x00r\\x00i\\x00n\\x00g\\x00 \\x00m\\x00e\\x00t\\x00h\\x00o\\x00d\\x00:\\x00 \\x00D\\x00e\\x00c\\x00o\\x00d\\x00e\\x00!\\x00 \\x00O\\x00n\\x00c\\x00e\\x00 \\x00y\\x00o\\x00u\\x00'\\x00r\\x00e\\x00 \\x00d\\x00o\\x00n\\x00e\\x00,\\x00 \\x00a\\x00d\\x00d\\x00 \\x00i\\x00t\\x00 \\x00t\\x00o\\x00 \\x00t\\x00h\\x00e\\x00 \\x00U\\x00R\\x00L\\x00\"\n"
     ]
    }
   ],
   "source": [
    "text =  \"The key to solving this riddle is to use the string method: Decode! Once you're done, add it to the URL\"\n",
    "text_utf = text.encode(\"utf_16\")\n",
    "\n",
    "print(text_utf)"
   ]
  },
  {
   "cell_type": "code",
   "execution_count": 26,
   "id": "65f8e3c7",
   "metadata": {},
   "outputs": [
    {
     "name": "stdout",
     "output_type": "stream",
     "text": [
      "The key to solving this riddle is to use the string method: Decode! Once you're done, add it to the URL\n"
     ]
    }
   ],
   "source": [
    "byte_string = b\"\\xff\\xfeT\\x00h\\x00e\\x00 \\x00k\\x00e\\x00y\\x00 \\x00t\\x00o\\x00 \\x00s\\x00o\\x00l\\x00v\\x00i\\x00n\\x00g\\x00 \\x00t\\x00h\\x00i\\x00s\\x00 \\x00r\\x00i\\x00d\\x00d\\x00l\\x00e\\x00 \\x00i\\x00s\\x00 \\x00t\\x00o\\x00 \\x00u\\x00s\\x00e\\x00 \\x00t\\x00h\\x00e\\x00 \\x00s\\x00t\\x00r\\x00i\\x00n\\x00g\\x00 \\x00m\\x00e\\x00t\\x00h\\x00o\\x00d\\x00:\\x00 \\x00D\\x00e\\x00c\\x00o\\x00d\\x00e\\x00!\\x00 \\x00O\\x00n\\x00c\\x00e\\x00 \\x00y\\x00o\\x00u\\x00'\\x00r\\x00e\\x00 \\x00d\\x00o\\x00n\\x00e\\x00,\\x00 \\x00a\\x00d\\x00d\\x00 \\x00i\\x00t\\x00 \\x00t\\x00o\\x00 \\x00t\\x00h\\x00e\\x00 \\x00U\\x00R\\x00L\\x00\"\n",
    "\n",
    "decoded_string = byte_string.decode(\"utf_16\")\n",
    "\n",
    "print(decoded_string)"
   ]
  },
  {
   "cell_type": "code",
   "execution_count": 27,
   "id": "1bd402ab",
   "metadata": {},
   "outputs": [
    {
     "name": "stdout",
     "output_type": "stream",
     "text": [
      "The key to solving this riddle is to use the string method: Decode! Once you're done, add it to the URL\n"
     ]
    }
   ],
   "source": [
    "byte_string = b\"\\xff\\xfeT\\x00h\\x00e\\x00 \\x00k\\x00e\\x00y\\x00 \\x00t\\x00o\\x00 \\x00s\\x00o\\x00l\\x00v\\x00i\\x00n\\x00g\\x00 \\x00t\\x00h\\x00i\\x00s\\x00 \\x00r\\x00i\\x00d\\x00d\\x00l\\x00e\\x00 \\x00i\\x00s\\x00 \\x00t\\x00o\\x00 \\x00u\\x00s\\x00e\\x00 \\x00t\\x00h\\x00e\\x00 \\x00s\\x00t\\x00r\\x00i\\x00n\\x00g\\x00 \\x00m\\x00e\\x00t\\x00h\\x00o\\x00d\\x00:\\x00 \\x00D\\x00e\\x00c\\x00o\\x00d\\x00e\\x00!\\x00 \\x00O\\x00n\\x00c\\x00e\\x00 \\x00y\\x00o\\x00u\\x00'\\x00r\\x00e\\x00 \\x00d\\x00o\\x00n\\x00e\\x00,\\x00 \\x00a\\x00d\\x00d\\x00 \\x00i\\x00t\\x00 \\x00t\\x00o\\x00 \\x00t\\x00h\\x00e\\x00 \\x00U\\x00R\\x00L\\x00\"\n",
    "\n",
    "decoding = byte_string.decode(\"utf_16\")\n",
    "print(decoding)"
   ]
  },
  {
   "cell_type": "code",
   "execution_count": 2,
   "id": "fa8848f0",
   "metadata": {},
   "outputs": [
    {
     "name": "stdout",
     "output_type": "stream",
     "text": [
      "UTF_16\n"
     ]
    }
   ],
   "source": [
    "#Python Challenge\n",
    "#Exercise 01\n",
    "\n",
    "z = \"UTF_16\"\n",
    "\n",
    "test = str.maketrans(\"abcdefghijklmnopqrstuvwxyz1234567890-_+=?/<>\\|!@#$%^&*\", \"cdefghijklmnopqrstuvwxyzab1234567890-_+=?/<>\\|!@#$%^&*\")\n",
    "print(z.translate(test))"
   ]
  },
  {
   "cell_type": "code",
   "execution_count": 1,
   "id": "71cd1feb",
   "metadata": {},
   "outputs": [
    {
     "name": "stdout",
     "output_type": "stream",
     "text": [
      "UTF_16UTF_16\n",
      "[85, 84, 70, 95, 49, 54]\n"
     ]
    }
   ],
   "source": [
    "text = input(\"UTF_16\")\n",
    "ascii_values = []\n",
    "for character in text:\n",
    "    ascii_values.append(ord(character))\n",
    "print(ascii_values)"
   ]
  },
  {
   "cell_type": "code",
   "execution_count": 2,
   "id": "4b8f56ea",
   "metadata": {},
   "outputs": [
    {
     "name": "stdout",
     "output_type": "stream",
     "text": [
      "Initial list :  [85, 84, 70, 95, 49, 54]\n",
      "Final string :  UTF_16\n"
     ]
    }
   ],
   "source": [
    "# Input list\n",
    "lst = [85, 84, 70, 95, 49, 54]\n",
    " \n",
    "# Printing input list\n",
    "print (\"Initial list : \", lst)\n",
    " \n",
    "# Using list comprehension and join\n",
    "res = ''.join(chr(i) for i in lst)\n",
    " \n",
    "print (\"Final string : \", str(res))"
   ]
  },
  {
   "cell_type": "code",
   "execution_count": 5,
   "id": "b9fca769",
   "metadata": {},
   "outputs": [
    {
     "name": "stdout",
     "output_type": "stream",
     "text": [
      "The key to solving this riddle is to use the string method: Decode! Once you're done, add it to the URL\n"
     ]
    }
   ],
   "source": [
    "byte_string = b\"\\xff\\xfeT\\x00h\\x00e\\x00 \\x00k\\x00e\\x00y\\x00 \\x00t\\x00o\\x00 \\x00s\\x00o\\x00l\\x00v\\x00i\\x00n\\x00g\\x00 \\x00t\\x00h\\x00i\\x00s\\x00 \\x00r\\x00i\\x00d\\x00d\\x00l\\x00e\\x00 \\x00i\\x00s\\x00 \\x00t\\x00o\\x00 \\x00u\\x00s\\x00e\\x00 \\x00t\\x00h\\x00e\\x00 \\x00s\\x00t\\x00r\\x00i\\x00n\\x00g\\x00 \\x00m\\x00e\\x00t\\x00h\\x00o\\x00d\\x00:\\x00 \\x00D\\x00e\\x00c\\x00o\\x00d\\x00e\\x00!\\x00 \\x00O\\x00n\\x00c\\x00e\\x00 \\x00y\\x00o\\x00u\\x00'\\x00r\\x00e\\x00 \\x00d\\x00o\\x00n\\x00e\\x00,\\x00 \\x00a\\x00d\\x00d\\x00 \\x00i\\x00t\\x00 \\x00t\\x00o\\x00 \\x00t\\x00h\\x00e\\x00 \\x00U\\x00R\\x00L\\x00\"\n",
    "\n",
    "decoding = byte_string.decode(\"utf_16\")\n",
    "print(decoding)"
   ]
  },
  {
   "cell_type": "code",
   "execution_count": 6,
   "id": "2411929f",
   "metadata": {},
   "outputs": [
    {
     "name": "stdout",
     "output_type": "stream",
     "text": [
      "UTF_16Decode with UTF_16\n",
      "[68, 101, 99, 111, 100, 101, 32, 119, 105, 116, 104, 32, 85, 84, 70, 95, 49, 54]\n"
     ]
    }
   ],
   "source": [
    "text = input(\"UTF_16\")\n",
    "ascii_values = []\n",
    "for character in text:\n",
    "    ascii_values.append(ord(character))\n",
    "print(ascii_values)"
   ]
  },
  {
   "cell_type": "code",
   "execution_count": 7,
   "id": "35d0cd7e",
   "metadata": {},
   "outputs": [
    {
     "name": "stdout",
     "output_type": "stream",
     "text": [
      "UTF_16Decode -> UTF_16\n",
      "[68, 101, 99, 111, 100, 101, 32, 45, 62, 32, 85, 84, 70, 95, 49, 54]\n"
     ]
    }
   ],
   "source": [
    "text = input(\"UTF_16\")\n",
    "ascii_values = []\n",
    "for character in text:\n",
    "    ascii_values.append(ord(character))\n",
    "print(ascii_values)"
   ]
  },
  {
   "cell_type": "code",
   "execution_count": 8,
   "id": "4a891776",
   "metadata": {},
   "outputs": [
    {
     "name": "stdout",
     "output_type": "stream",
     "text": [
      "Initial list :  [68, 101, 99, 111, 100, 101, 32, 45, 62, 32, 85, 84, 70, 95, 49, 54]\n",
      "Final string :  Decode -> UTF_16\n"
     ]
    }
   ],
   "source": [
    "# Input list\n",
    "lst = [68, 101, 99, 111, 100, 101, 32, 45, 62, 32, 85, 84, 70, 95, 49, 54]\n",
    " \n",
    "# Printing input list\n",
    "print (\"Initial list : \", lst)\n",
    " \n",
    "# Using list comprehension and join\n",
    "res = ''.join(chr(i) for i in lst)\n",
    " \n",
    "print (\"Final string : \", str(res))"
   ]
  },
  {
   "cell_type": "code",
   "execution_count": 2,
   "id": "898b37a7",
   "metadata": {},
   "outputs": [
    {
     "name": "stdout",
     "output_type": "stream",
     "text": [
      "Final string :  Decode -> UTF_16\n"
     ]
    }
   ],
   "source": [
    "lstt = [68, 101, 99, 111, 100, 101, 32, 45, 62, 32, 85, 84, 70, 95, 49, 54]\n",
    "res = ''.join(chr(i) for i in lstt)\n",
    " \n",
    "print (\"Final string : \", str(res))"
   ]
  },
  {
   "cell_type": "code",
   "execution_count": 3,
   "id": "cbc0c799",
   "metadata": {},
   "outputs": [
    {
     "name": "stdout",
     "output_type": "stream",
     "text": [
      "The key to solving this riddle is to use the string method: Decode! Once you're done, add it to the URL\n"
     ]
    }
   ],
   "source": [
    "byte_string = b\"\\xff\\xfeT\\x00h\\x00e\\x00 \\x00k\\x00e\\x00y\\x00 \\x00t\\x00o\\x00 \\x00s\\x00o\\x00l\\x00v\\x00i\\x00n\\x00g\\x00 \\x00t\\x00h\\x00i\\x00s\\x00 \\x00r\\x00i\\x00d\\x00d\\x00l\\x00e\\x00 \\x00i\\x00s\\x00 \\x00t\\x00o\\x00 \\x00u\\x00s\\x00e\\x00 \\x00t\\x00h\\x00e\\x00 \\x00s\\x00t\\x00r\\x00i\\x00n\\x00g\\x00 \\x00m\\x00e\\x00t\\x00h\\x00o\\x00d\\x00:\\x00 \\x00D\\x00e\\x00c\\x00o\\x00d\\x00e\\x00!\\x00 \\x00O\\x00n\\x00c\\x00e\\x00 \\x00y\\x00o\\x00u\\x00'\\x00r\\x00e\\x00 \\x00d\\x00o\\x00n\\x00e\\x00,\\x00 \\x00a\\x00d\\x00d\\x00 \\x00i\\x00t\\x00 \\x00t\\x00o\\x00 \\x00t\\x00h\\x00e\\x00 \\x00U\\x00R\\x00L\\x00\"\n",
    "\n",
    "decoding = byte_string.decode(\"utf_16\")\n",
    "print(decoding)"
   ]
  },
  {
   "cell_type": "code",
   "execution_count": 6,
   "id": "a8e0709b",
   "metadata": {},
   "outputs": [
    {
     "name": "stdout",
     "output_type": "stream",
     "text": [
      "b\"\\xff\\xfeC\\x00o\\x00n\\x00g\\x00r\\x00a\\x00t\\x00u\\x00l\\x00a\\x00t\\x00i\\x00o\\x00n\\x00s\\x00!\\x00 \\x00Y\\x00o\\x00u\\x00 \\x00m\\x00a\\x00n\\x00a\\x00g\\x00e\\x00d\\x00 \\x00t\\x00o\\x00 \\x00d\\x00e\\x00c\\x00o\\x00d\\x00e\\x00 \\x00t\\x00h\\x00e\\x00 \\x00m\\x00e\\x00s\\x00s\\x00a\\x00g\\x00e\\x00!\\x00 \\x00T\\x00h\\x00e\\x00 \\x00a\\x00n\\x00s\\x00w\\x00e\\x00r\\x00 \\x00y\\x00o\\x00u\\x00'\\x00r\\x00e\\x00 \\x00l\\x00o\\x00o\\x00k\\x00i\\x00n\\x00g\\x00 \\x00f\\x00o\\x00r\\x00 \\x00i\\x00s\\x00:\\x00 \\x00p\\x00l\\x00a\\x00y\\x00.\\x00h\\x00t\\x00m\\x00l\\x00.\\x00 \\x00K\\x00e\\x00e\\x00p\\x00 \\x00r\\x00e\\x00a\\x00d\\x00i\\x00n\\x00g\\x00 \\x00i\\x00f\\x00 \\x00y\\x00o\\x00u\\x00'\\x00r\\x00e\\x00 \\x00i\\x00n\\x00t\\x00e\\x00r\\x00e\\x00s\\x00t\\x00e\\x00d\\x00 \\x00i\\x00n\\x00 \\x00h\\x00o\\x00w\\x00 \\x00t\\x00o\\x00 \\x00s\\x00o\\x00l\\x00v\\x00e\\x00.\\x00 \\x00T\\x00h\\x00e\\x00 \\x00F\\x00i\\x00r\\x00s\\x00t\\x00 \\x00r\\x00i\\x00d\\x00d\\x00l\\x00e\\x00:\\x00 \\x00s\\x00t\\x00r\\x00(\\x00'\\x00'\\x00.\\x00j\\x00o\\x00i\\x00n\\x00(\\x00c\\x00h\\x00r\\x00(\\x00i\\x00)\\x00 \\x00f\\x00o\\x00r\\x00 \\x00i\\x00 \\x00i\\x00n\\x00 \\x00l\\x00s\\x00t\\x00t\\x00)\\x00)\\x00 \\x00-\\x00-\\x00>\\x00 \\x00y\\x00o\\x00u\\x00 \\x00g\\x00e\\x00t\\x00 \\x00U\\x00T\\x00F\\x00_\\x001\\x006\\x00 \\x00.\\x00.\\x00.\\x00 \\x00T\\x00h\\x00e\\x00 \\x00S\\x00e\\x00c\\x00o\\x00n\\x00d\\x00 \\x00r\\x00i\\x00d\\x00d\\x00l\\x00e\\x00:\\x00 \\x00t\\x00e\\x00x\\x00t\\x00.\\x00d\\x00e\\x00c\\x00o\\x00d\\x00e\\x00(\\x00'\\x00u\\x00t\\x00f\\x00_\\x001\\x006\\x00'\\x00)\\x00 \\x00-\\x00-\\x00>\\x00 \\x00y\\x00o\\x00u\\x00 \\x00g\\x00e\\x00t\\x00 \\x00t\\x00h\\x00i\\x00s\\x00 \\x00m\\x00e\\x00s\\x00s\\x00a\\x00g\\x00e\\x00!\\x00 \\x00\"\n"
     ]
    }
   ],
   "source": [
    "text =  \"Congratulations! You managed to decode the message! The answer you're looking for is: play.html. Keep reading if you're interested in how to solve. The First riddle: str(''.join(chr(i) for i in lstt)) --> you get UTF_16 ... The Second riddle: text.decode('utf_16') --> you get this message! \"\n",
    "text_utf = text.encode(\"utf_16\")\n",
    "\n",
    "print(text_utf)"
   ]
  },
  {
   "cell_type": "code",
   "execution_count": null,
   "id": "6fc53b47",
   "metadata": {},
   "outputs": [],
   "source": []
  }
 ],
 "metadata": {
  "kernelspec": {
   "display_name": "Python 3 (ipykernel)",
   "language": "python",
   "name": "python3"
  },
  "language_info": {
   "codemirror_mode": {
    "name": "ipython",
    "version": 3
   },
   "file_extension": ".py",
   "mimetype": "text/x-python",
   "name": "python",
   "nbconvert_exporter": "python",
   "pygments_lexer": "ipython3",
   "version": "3.9.7"
  }
 },
 "nbformat": 4,
 "nbformat_minor": 5
}
